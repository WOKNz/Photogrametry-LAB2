{
 "cells": [
  {
   "cell_type": "markdown",
   "metadata": {},
   "source": [
    "שמות המגישים:"
   ]
  },
  {
   "cell_type": "markdown",
   "metadata": {},
   "source": [
    "# מעבדה 2 - תכנות מונחה עצמים והתמרה פרספקטיבית"
   ]
  },
  {
   "cell_type": "markdown",
   "metadata": {},
   "source": [
    "## הוראות להגשת המעבדה\n",
    "1.\tההגשה היא בזוגות או ביחידים.\n",
    "2.\tמועד ההגשה הוא שבוע מיום פרסום המעבדה.\n",
    "3. יש להגיש קובץ html יחיד. \n"
   ]
  },
  {
   "cell_type": "markdown",
   "metadata": {},
   "source": [
    "## חלק א - תכנות מונחה עצמים"
   ]
  },
  {
   "cell_type": "markdown",
   "metadata": {},
   "source": [
    "### 1. ממשו את המחלקה Shape \n",
    "מחלקה היא מחלקת האב המכילה את כל הצורות הגיאומטריות. \n",
    "כל צורה גיאומטרית מוגדרת ע\"י שמה ופרמטרי משוואתה המתמטית.\n",
    "-   המחלקה תכיל שדה של שם ,\n",
    "- הוסיפו את המתודות הבאות כריקות:\n",
    "    1. שטח\n",
    "    2. היקף\n",
    "- ממשו מתודות ההתמרה \n",
    "   \n",
    "   התמרות אלה יקבלו אוסף נקודות ופרמטרי התמרה ויבצעו את ההתמרות הבאות:   \n",
    "    1. התמרה אוקלידית\n",
    "    2. התמרה קונפורמית\n",
    "    3. התמרה אפינית\n",
    "\n",
    "\n",
    "- ממשו את מתודות ההתמרות ההפוכות \n",
    "\n",
    "   התמרות אלה יקבלו אוסף נקודות ופרמטרי התמרה ויבצעו את ההתמרות ההפוכות עבור כל אחת מההתמרות:   \n",
    "    1. התמרה אוקלידית\n",
    "    2. התמרה קונפורמית\n",
    "    3. התמרה אפינית\n",
    "\n",
    "\n",
    "- ממשו פונקציית ציור המקבלת אוסף נקודות ומציירת אותן \n"
   ]
  },
  {
   "cell_type": "code",
   "execution_count": 2,
   "metadata": {
    "pycharm": {
     "is_executing": false
    }
   },
   "outputs": [],
   "source": [
    "import numpy as np\n",
    "import matplotlib.pyplot as plt\n",
    "from scipy import linalg as la"
   ]
  },
  {
   "cell_type": "code",
   "execution_count": 3,
   "metadata": {
    "pycharm": {
     "is_executing": false
    }
   },
   "outputs": [],
   "source": [
    "class Shape:\n",
    "    \n",
    "    def __init__(self, name):\n",
    "        \"\"\"\n",
    "        \n",
    "        \"\"\"\n",
    "        self.__name = name\n",
    "\n",
    "    \n",
    "    def area(self):\n",
    "        print('You called area from Shape')\n",
    "        pass\n",
    "        \n",
    "    def perimeter(self):\n",
    "        pass\n",
    "        \n",
    "    def oklid(self, points, angle, delta):\n",
    "        \"\"\"\n",
    "        :param points: Input array of points\n",
    "        :param angle: Rotation angle in radians\n",
    "        :param delta: Shifting of points array\n",
    "        \n",
    "        :type points: np.ndarray.type('float')\n",
    "        :type angle: double\n",
    "        :type delta: np.ndarray.type('float')\n",
    "        \n",
    "        :return: Array of transformed points\n",
    "        :rtype: np.ndarray.type('float')\n",
    "        \n",
    "        \"\"\"\n",
    "        \n",
    "        r = np.array([[np.cos(angle),-np.sin(angle)],[np.sin(angle),np.cos(angle)]])\n",
    "        x_new = np.dot(r,points)+np.vstack((delta[0]*np.ones(points.shape[1]),delta[0]*np.ones(points.shape[1])))\n",
    "        return x_new\n",
    "\n",
    "    def konform(self, points, angle, delta, scale):\n",
    "        \"\"\"\n",
    "        :param points: Input array of points\n",
    "        :param angle: Rotation angle in radians\n",
    "        :param delta: Shifting of points array\n",
    "        :param scale: Scale on points\n",
    "        \n",
    "        :type points: np.ndarray.type('float')\n",
    "        :type angle: double\n",
    "        :type delta: np.ndarray.type('float')\n",
    "        :type scale: np.ndarray.type('float')\n",
    "        \n",
    "        :return: Array of transformed points\n",
    "        :rtype: np.ndarray.type('float')\n",
    "        \n",
    "        \"\"\"\n",
    "\n",
    "        r = np.dot(scale,np.array([[np.cos(angle),-np.sin(angle)],[np.sin(angle),np.cos(angle)]]))\n",
    "        print(delta[0]*np.ones(points.shape[1]))\n",
    "        print(delta[1]*np.ones(points.shape[1]))\n",
    "        x_new = np.dot(r,points)+np.vstack((delta[0]*np.ones(points.shape[1]),delta[1]*np.ones(points.shape[1])))\n",
    "        return x_new\n",
    "    \n",
    "    def afine(self, points, angle, delta,scale,shear):\n",
    "        \"\"\"\n",
    "        :param points: Input array of points\n",
    "        :param angle: Rotation angle in radians\n",
    "        :param delta: Shifting of points array\n",
    "        :param scale: Scale on points\n",
    "        :param shear: Shear on specific axis of points\n",
    "        \n",
    "        :type points: np.ndarray.type('float')\n",
    "        :type angle: double\n",
    "        :type delta: np.ndarray.type('float')\n",
    "        :type scale: np.ndarray.type('float')\n",
    "        :type shear: np.ndarray.type('float')\n",
    "        \n",
    "        :return: Array of transformed points\n",
    "        :rtype: np.ndarray.type('float')\n",
    "        \n",
    "        \"\"\"\n",
    "\n",
    "        r = np.dot(shear,np.dot(scale,np.array([[np.cos(angle),-np.sin(angle)],[np.sin(angle),np.cos(angle)]])))\n",
    "        x_new = np.dot(r,points)+np.vstack((delta[0]*np.ones(points.shape[1]),delta[1]*np.ones(points.shape[1])))\n",
    "        return x_new\n",
    "\n",
    "    def draw(self, points):\n",
    "        \"\"\"\n",
    "        :param points: Array of untransformed points\n",
    "\n",
    "        :type shear: np.ndarray.type('float')\n",
    "\n",
    "        \"\"\"\n",
    "        plt.plot(points[0,:],points[1,:],'b.')\n",
    "        plt.axis('equal')\n",
    "        plt.show\n",
    "\n",
    "    def multimat(self, angle, scale, shear):\n",
    "        \"\"\"\n",
    "        if none = np.ones\n",
    "        \"\"\"\n",
    "        rotation = np.array([[np.cos(angle),-np.sin(angle)],[np.sin(angle),np.cos(angle)]])\n",
    "        return np.dot(shear,np.dot(scale,rotation))\n",
    "                      \n",
    "    def invOklid(self, points, angle, delta):\n",
    "        r = self.multimat(angle)\n",
    "        x_new = np.dot(la.inv(r),points - np.vstack((delta[0]*np.ones(points.shape[1]),delta[1]*np.ones(points.shape[1]))))\n",
    "        return x_new\n",
    "\n",
    "    def invKonform(self, points, angle, delta,scale):\n",
    "        r = self.multimat(angle,scale)\n",
    "        x_new = np.dot(la.inv(r),points - np.vstack((delta[0]*np.ones(points.shape[1]),delta[1]*np.ones(points.shape[1]))))\n",
    "        return x_new\n",
    "\n",
    "    def invAfine(self, points, angle, delta,scale,shear):\n",
    "        r = self.multimat(angle, scale, shear)\n",
    "        x_new = np.dot(la.inv(r),points - np.vstack((delta[0]*np.ones(points.shape[1]),delta[1]*np.ones(points.shape[1]))))\n",
    "        return x_new"
   ]
  },
  {
   "cell_type": "markdown",
   "metadata": {},
   "source": [
    "### 2. ממשו את המחלקה Circle.  מחלקה זו תירש ממחלקת האב \"Shape\".\n",
    " מחלקה זו מאותחלת על-ידי קבלה של שם המעגל, מרכזו ורדיוסו. \n",
    " \n",
    " ממשו עבור מחלקה זו את המתודות הפרטיות הבאות:\n",
    " -\tמתודה שמחשבת את שטח של המעגל.  \n",
    " -\tמתודה שמחשבת את ההיקף של המעגל. \n",
    " \n",
    " ממשו את המתודה:\n",
    " -\tמתודה הבודקת אם נקודה נמצאת בתוך המעגל או מחוצה לו, מחזירה True או False.\n",
    " - מתודה המציירת את המעגל. מתודה זו מבצעת override על מתודת הציור של מחלקת האב.\n",
    " \n",
    "ממשו את המאפיינים הבאים: \n",
    "- `def center(self)` – מרכז המעגל.\n",
    "- `def radius(self)` - שטח המעגל\n"
   ]
  },
  {
   "cell_type": "code",
   "execution_count": 4,
   "metadata": {
    "pycharm": {
     "is_executing": false
    }
   },
   "outputs": [],
   "source": [
    "class Circle(Shape):\n",
    "    \n",
    "    def __init__(self, name, radius, center):\n",
    "        \"\"\"\n",
    "        :param name:\n",
    "        :param radius_of_circle:\n",
    "        :param center_of_circle:\n",
    "        \n",
    "        :type name:\n",
    "        :type radius_of_circle:\n",
    "        :type center_of_circle:\n",
    "        \n",
    "        \"\"\"\n",
    "        super().__init__(name)\n",
    "        \n",
    "        self.radius = radius\n",
    "        self.center = center\n",
    "        \n",
    "    def area(self):\n",
    "        \"\"\"\n",
    "        \n",
    "        \"\"\"\n",
    "        print('You called area from Circle')\n",
    "        return np.pi*self.radius**2\n",
    "    \n",
    "    def __perimeter(self, radius):\n",
    "        \"\"\"\n",
    "        \n",
    "        \"\"\"\n",
    "        return 2*np.pi*radius\n",
    "    \n",
    "    def isInside(self, point):\n",
    "        \"\"\"\n",
    "        \n",
    "        \"\"\"\n",
    "        \n",
    "        def dis(point1):\n",
    "            return np.sqrt((point[0]-self.center[0])**2+(point[1]-self.center[1])**2)\n",
    "        if dis(point) > self.radius:\n",
    "            return False\n",
    "        else:\n",
    "            return True\n",
    "        \n",
    "    def drawCircle(self):\n",
    "        \n",
    "        circle = plt.Circle((self.center[0], self.center[1]), self.radius, color='b', fill=False)\n",
    "\n",
    "        fig, ax = plt.subplots()\n",
    "        ax.add_artist(circle)\n",
    "\n",
    "        plt.axis('equal')\n",
    "        plt.show()\n",
    "    \n",
    "    \"\"\"@staticmethod\n",
    "    def func(x,y, z):\n",
    "        pass\n",
    "    \n",
    "    @classmethod\n",
    "    def func2(cls, x,y,z):\n",
    "        pass\"\"\"\n",
    "    \n",
    "    def generateCirclePoints(self, numberOfPoints):\n",
    "        \"\"\"\n",
    "        \n",
    "        \"\"\"\n",
    "        \n",
    "        alpha = np.arange(0, 2 * np.pi, 2 * np.pi / numberOfPoints)    \n",
    "        x = self.center[0]+self.radius * np.cos(alpha)    \n",
    "        y = self.center[1]+self.radius * np.sin(alpha)\n",
    "\n",
    "        return np.vstack([x, y])\n",
    "    \n",
    "    # @property\n",
    "    # def center(self):\n",
    "    #     return self.center\n",
    "    # \n",
    "    # @property\n",
    "    # def radius(self):\n",
    "    #     return self.radius\n",
    "    # \n",
    "    # @radius.setter\n",
    "    # def radius(self, value):\n",
    "    #     self.center = value\n",
    "    # \n",
    "    # @center.setter\n",
    "    # def center(self, value):\n",
    "    #  self.center = value"
   ]
  },
  {
   "cell_type": "markdown",
   "metadata": {},
   "source": [
    "הוסיפו למחלקה את המתודה `generateCirclePoints(self, numberOfPoint)` \n",
    "\n",
    "מתודה זו מקבלת מופע ואת מספר הנקודות הסינטטיות המיוצרות על המעגל\n",
    "\n",
    "להלן דוגמא למעגל המיוצר סביב ראשית הצירים:\n"
   ]
  },
  {
   "cell_type": "markdown",
   "metadata": {},
   "source": [
    "`def generateCircle_origin(r, numberOfPoints)`:\n",
    "\n",
    "    alpha = np.arange(0, 2 * np.pi, 2 * np.pi / numberOfPoints)    \n",
    "    x = r * np.cos(alpha)    \n",
    "    y = r * np.sin(alpha))\n",
    "\n",
    "    return np.vstack([x, y])"
   ]
  },
  {
   "cell_type": "markdown",
   "metadata": {},
   "source": [
    "### 3. ממשו את המחלקה Ellipse.  מחלקה זו תירש ממחלקת האב \"Shape\".\n",
    "מחלקה זו מאותחלת על-ידי שם האליפסה, הצירים הראשיים שלה, ומיקום מרכזיה.  \n",
    "\n",
    "ממשו עבור מחלקה זו את המתודות הפרטיות הבאות:  \n",
    "-\tמתודה המחשבת את שטח האליפסה\n",
    "- מתודה המחשבת את היקף האליפסה\n",
    "\n",
    "ממשו עבור מחלקה זו את המתודות הבאות:\n",
    "-\tמתודה שמחשבת ומחזירה את פחיסות האליפסה.\n",
    "\n",
    "     _הערה_: פחיסות (flattening)אליפסה מחושבת על-ידי  \n",
    " $$ f=\\dfrac{a-b}{a} $$  \n",
    " כאשר a הוא הציר הראשי ו-b המשני. \n",
    "\n",
    "- מתודה המציירת את האליפסה. מתודה זו מבצעת override על מתודת הציור של מחלקת האב.\n",
    "\n",
    "\n",
    "\n",
    "ממשו את המאפיינים הבאים: \n",
    "-\t`def center(self)` – מרכזי האליפסה \n",
    "-\t`def a(self)` – אורך הציר a \n",
    "-\t`def b(self)` – אורך הציר b\n",
    "\n",
    "להזכירכם, משוואת אליפסה מוגדרת על-ידי: \n",
    "$$ \n",
    "\\left(\\frac{x-x_0}{a}\\right)^2+\\left(\\frac{y-y_0}{b}\\right)^2=1\n",
    "$$\n",
    "כאשר $x_0, \\, y_0$ הם מיקום מרכזי האליפסה"
   ]
  },
  {
   "cell_type": "markdown",
   "metadata": {},
   "source": [
    "$$\n",
    "p \\approx 2 \\pi \\sqrt{\\frac{a^{2}+b^{2}}{2}}\n",
    "$$"
   ]
  },
  {
   "cell_type": "code",
   "execution_count": 56,
   "metadata": {
    "pycharm": {
     "is_executing": false
    }
   },
   "outputs": [
    {
     "name": "stdout",
     "text": [
      "BBBBB\n"
     ],
     "output_type": "stream"
    }
   ],
   "source": [
    "class Ellipse(Shape):\n",
    "    \n",
    "    def __init__(self, name, a, b, center):\n",
    "        \"\"\"\n",
    "        :param name:\n",
    "        :param radius:\n",
    "        :param center:\n",
    "        \n",
    "        :type name:\n",
    "        :type radius:\n",
    "        :type center:\n",
    "        \n",
    "        \"\"\"\n",
    "        super().__init__(name)\n",
    "        \n",
    "        self.a = a\n",
    "        self.b = b\n",
    "        self.center = center\n",
    "        print(\"aaaaaaaaaaaaaaaaaaaa\")\n",
    "        \n",
    "    def __area(self):\n",
    "        \"\"\"\n",
    "        \n",
    "        \"\"\"\n",
    "        return np.pi*self.a*self.b\n",
    "    \n",
    "    def __perimeter(self):\n",
    "        \"\"\"\n",
    "        \n",
    "        \"\"\"\n",
    "        return 2*np.pi*np.sqrt((self.a**2+self.b**2)/2)\n",
    "    \n",
    "    \n",
    "    def isInside(self, point):\n",
    "        \"\"\"\n",
    "        \n",
    "        \"\"\"\n",
    "        \n",
    "        return (self.a-self.b)/2 #Not done\n",
    "        \n",
    "    def drawEllipse(self):\n",
    "        \n",
    "        t = np.linspace(0, 2*np.pi, 100)\n",
    "        plt.plot( self.center[0]+self.a*np.cos(t) , self.center[1]+self.b*np.sin(t) )\n",
    "        plt.axis('equal')   \n",
    "        plt.show()\n",
    "    \n",
    "    def generateEllipsePoints(self, numberOfPoints):\n",
    "        \"\"\"\n",
    "        \n",
    "        \"\"\"\n",
    "        \n",
    "        alpha = np.arange(0, 2 * np.pi, 2 * np.pi / numberOfPoints)    \n",
    "        x = self.center[0]+self.a*np.cos(alpha)   \n",
    "        y = self.center[1]+self.b*np.sin(alpha)\n",
    "\n",
    "        return np.vstack([x, y])\n",
    "    print(\"BBBBB\")\n",
    "    \n",
    "    # @property\n",
    "    # def center(self):\n",
    "    #     return self.center\n",
    "    # \n",
    "    # @property\n",
    "    # def a(self):\n",
    "    #     return self.a\n",
    "    # \n",
    "    # @property\n",
    "    # def b(self):\n",
    "    #     return self.b\n",
    "    # \n",
    "    # @center.setter\n",
    "    # def center(self, value):\n",
    "    #  self.center = value\n",
    "    #     \n",
    "    # @a.setter\n",
    "    # def a(self, value):\n",
    "    #  self.a = value\n",
    "    #     \n",
    "    # @b.setter\n",
    "    # def b(self, value):\n",
    "    #  self.b = value\n",
    "    \n",
    "    # @staticmethod\n",
    "    # def func(x,y, z):\n",
    "    #     pass\n",
    "    # \n",
    "    # @classmethod\n",
    "    # def func2(cls, x,y,z):\n",
    "    #     pass"
   ]
  },
  {
   "cell_type": "markdown",
   "metadata": {},
   "source": [
    "הוסיפו למחלקה את המתודה `generateEllipsePoints(self, numberOfPoint)` \n",
    "\n",
    "מתודה זו מקבלת מופע ואת מספר הנקודות הסינטטיות המיוצרות על האליפסה\n",
    "\n"
   ]
  },
  {
   "cell_type": "markdown",
   "metadata": {},
   "source": []
  },
  {
   "cell_type": "markdown",
   "metadata": {},
   "source": [
    "### 4. צרו מופע של המעגל \n",
    "עם שם שתבחרו\n",
    "ומרכז בנקודה (2,5) ורדיוס של 2\n"
   ]
  },
  {
   "cell_type": "code",
   "execution_count": 57,
   "metadata": {
    "pycharm": {
     "is_executing": false
    }
   },
   "outputs": [],
   "source": [
    " cir1 = Circle('Circle1',2,[2,5])"
   ]
  },
  {
   "cell_type": "markdown",
   "metadata": {},
   "source": [
    "\n",
    "הדפיסו את שטח המעגל"
   ]
  },
  {
   "cell_type": "code",
   "execution_count": 58,
   "metadata": {
    "pycharm": {
     "is_executing": false
    }
   },
   "outputs": [
    {
     "name": "stdout",
     "text": [
      "You called area from Circle\n12.566370614359172\n"
     ],
     "output_type": "stream"
    }
   ],
   "source": [
    "print(cir1.area())"
   ]
  },
  {
   "cell_type": "markdown",
   "metadata": {},
   "source": [
    "\n",
    "הדפיסו את הרדיוס של המעגל"
   ]
  },
  {
   "cell_type": "code",
   "execution_count": 59,
   "metadata": {
    "pycharm": {
     "is_executing": false
    }
   },
   "outputs": [
    {
     "name": "stdout",
     "text": [
      "2\n"
     ],
     "output_type": "stream"
    }
   ],
   "source": [
    "print(cir1.radius)\n"
   ]
  },
  {
   "cell_type": "markdown",
   "metadata": {},
   "source": [
    " התמירו 10 נקודות שעל המעגל על ידי התמרה \n",
    " \n",
    "שמסובבת ב 30 מעלות ומגדילה פי 2 ומזיזה את המעגל ל-(1,1)\n",
    "\n"
   ]
  },
  {
   "cell_type": "code",
   "execution_count": 60,
   "metadata": {
    "pycharm": {
     "is_executing": false
    }
   },
   "outputs": [
    {
     "name": "stdout",
     "text": [
      "[-2. -2. -2. -2. -2. -2. -2. -2. -2. -2.]\n[-5. -5. -5. -5. -5. -5. -5. -5. -5. -5.]\n[1. 1. 1. 1. 1. 1. 1. 1. 1. 1.]\n[1. 1. 1. 1. 1. 1. 1. 1. 1. 1.]\n"
     ],
     "output_type": "stream"
    },
    {
     "data": {
      "text/plain": "<Figure size 432x288 with 1 Axes>",
      "image/png": "[encoded data removed]"
     },
     "metadata": {
      "needs_background": "light"
     },
     "output_type": "display_data"
    }
   ],
   "source": [
    "points = cir1.generateCirclePoints(10)\n",
    "plt.plot(points[0,:],points[1,:],'b*', label='Points before T')\n",
    "angle = np.radians(30)\n",
    "delta = np.array([-1,-4])\n",
    "scale = np.array([[2,0],[0,2]])\n",
    "t_points = cir1.konform(points, 0, [-2,-5], np.array([[1,0],[0,1]])) # First we move to (0,0)\n",
    "t_points = cir1.konform(t_points, angle, [1, 1], scale) # Transformation and moving to (1,1)\n",
    "plt.plot(t_points[0,:],t_points[1,:],'*r', label='Points after T')\n",
    "plt.axis('equal')\n",
    "plt.legend(loc='upper right')\n",
    "plt.show()"
   ]
  },
  {
   "cell_type": "markdown",
   "metadata": {},
   "source": [
    "ציירו את המעגל המותמר באמצעות המתודה השייכת למופע"
   ]
  },
  {
   "cell_type": "code",
   "execution_count": 61,
   "metadata": {
    "pycharm": {
     "is_executing": false
    }
   },
   "outputs": [
    {
     "name": "stdout",
     "text": [
      "4.000000000000001\n"
     ],
     "output_type": "stream"
    }
   ],
   "source": [
    "cir2 = Circle('Circle2',np.sqrt((t_points[0,0]-1)**2+(t_points[1,0]-1)**2),[1,1])\n",
    "print(cir2.radius)\n"
   ]
  },
  {
   "cell_type": "markdown",
   "metadata": {},
   "source": [
    "הפעילו התמרה הפוכה על מנת לקבל את המעגל המקורי"
   ]
  },
  {
   "cell_type": "code",
   "execution_count": 62,
   "metadata": {
    "pycharm": {
     "is_executing": false
    }
   },
   "outputs": [
    {
     "name": "stdout",
     "text": [
      "[-1. -1. -1. -1. -1. -1. -1. -1. -1. -1.]\n[-1. -1. -1. -1. -1. -1. -1. -1. -1. -1.]\n[-2. -2. -2. -2. -2. -2. -2. -2. -2. -2.]\n[-5. -5. -5. -5. -5. -5. -5. -5. -5. -5.]\n"
     ],
     "output_type": "stream"
    },
    {
     "data": {
      "text/plain": "<Figure size 432x288 with 1 Axes>",
      "image/png": "[encoded data removed]"
     },
     "metadata": {
      "needs_background": "light"
     },
     "output_type": "display_data"
    }
   ],
   "source": [
    "plt.plot(t_points[0,:],t_points[1,:],'g*', label='Points before T')\n",
    "angle = np.radians(30)\n",
    "scale = np.array([[2,0],[0,2]])\n",
    "t_points2 = cir1.konform(t_points, 0, [-1,-1], np.array([[1,0],[0,1]])) # First we move to (0,0)\n",
    "t_points2 = cir1.konform(t_points2, angle, [-2, -5], scale) # Transformation and moving to (1,1)\n",
    "plt.plot(t_points2[0,:],t_points2[1,:],'r*', label='Points after T')\n",
    "plt.axis('equal')\n",
    "plt.legend(loc='upper right')\n",
    "plt.show()\n"
   ]
  },
  {
   "cell_type": "markdown",
   "metadata": {},
   "source": [
    "האם הנקודה (0.5,0.5) בתוך המעגל או מחוצה לו? \n"
   ]
  },
  {
   "cell_type": "code",
   "execution_count": 63,
   "metadata": {
    "pycharm": {
     "is_executing": false
    }
   },
   "outputs": [
    {
     "name": "stdout",
     "text": [
      "The point isnt inside the Circle R=2, (2,5)\n"
     ],
     "output_type": "stream"
    }
   ],
   "source": [
    "if not cir1.isInside([0.5,0.5]):\n",
    "    print('The point isnt inside the Circle R=2, (2,5)')\n",
    "else:\n",
    "    print('The point is inside the Circle R=2, (2,5)')\n",
    "    "
   ]
  },
  {
   "cell_type": "markdown",
   "metadata": {},
   "source": [
    "### 5.  צרו מופע של האליפסה\n",
    "עם שם לבחירתכם \n",
    "\n",
    "a=3 , b=1\n",
    "\n",
    "מרכז ב-(3-, 2-)\n",
    "\n",
    "\n",
    "\n"
   ]
  },
  {
   "cell_type": "code",
   "execution_count": 64,
   "metadata": {
    "pycharm": {
     "is_executing": false
    }
   },
   "outputs": [
    {
     "name": "stdout",
     "text": [
      "aaaaaaaaaaaaaaaaaaaa\n"
     ],
     "output_type": "stream"
    }
   ],
   "source": [
    "elip1 = Ellipse('Ellip1', 3, 1, [2,-3])"
   ]
  },
  {
   "cell_type": "markdown",
   "metadata": {},
   "source": [
    "\n",
    "מהי הפחיסות של האליפסה?"
   ]
  },
  {
   "cell_type": "code",
   "execution_count": 65,
   "metadata": {
    "pycharm": {
     "is_executing": false
    }
   },
   "outputs": [
    {
     "name": "stdout",
     "text": [
      "0.6666666666666666\n"
     ],
     "output_type": "stream"
    }
   ],
   "source": [
    "f = (elip1.a-elip1.b)/elip1.a\n",
    "print(f)"
   ]
  },
  {
   "cell_type": "markdown",
   "metadata": {},
   "source": [
    "צרו 15 נקודות על האליפסה וציירו"
   ]
  },
  {
   "cell_type": "code",
   "execution_count": 84,
   "metadata": {
    "pycharm": {
     "is_executing": false
    }
   },
   "outputs": [],
   "source": [
    "points = elip1.generateEllipsePoints(15)"
   ]
  },
  {
   "cell_type": "markdown",
   "metadata": {},
   "source": [
    "העבירו את האליפסה למערכת קוארדינטות אחרת, כך שהצירים לא אורתוגונלים. ציר Y מוטה ב-30 מעלות, וכל המערכת מסובבת ב90 מעלות. \n",
    "מעבר לכך, המערכת החדשה קטנה פי 2 מהמערכת המקורית. \n",
    "points"
   ]
  },
  {
   "cell_type": "code",
   "execution_count": 85,
   "metadata": {
    "pycharm": {
     "is_executing": false
    }
   },
   "outputs": [
    {
     "data": {
      "text/plain": "<Figure size 432x288 with 1 Axes>",
      "image/png": "[encoded data removed]"
     },
     "metadata": {
      "needs_background": "light"
     },
     "output_type": "display_data"
    }
   ],
   "source": [
    "plt.plot(points[0,:],points[1,:],'b*', label='Points before T')\n",
    "angle = np.radians(90)\n",
    "scale = np.array([[0.5,0],[0,0.5]])\n",
    "shear = [[1,0],[np.tan(np.radians(30)), 1]]\n",
    "t_points = elip1.afine(points, 0, [-2,3], np.array([[1,0],[0,1]]), np.array([[1,0],[0,1]])) # First we move to (0,0)\n",
    "t_points = elip1.afine(t_points, angle, [2, -3], scale, shear) # Transformation and moving to (1,1)\n",
    "plt.plot(t_points[0,:],t_points[1,:],'*r', label='Points after T')\n",
    "plt.axis('equal')\n",
    "plt.legend(loc='upper right')\n",
    "plt.show()\n",
    "\n"
   ]
  },
  {
   "cell_type": "markdown",
   "metadata": {},
   "source": [
    "ציירו את האליפסה במערכת החדשה באמצעות המתודה השייכת למופע"
   ]
  },
  {
   "cell_type": "code",
   "execution_count": 86,
   "metadata": {
    "pycharm": {
     "is_executing": false
    }
   },
   "outputs": [
    {
     "data": {
      "text/plain": "<Figure size 432x288 with 1 Axes>",
      "image/png": "[encoded data removed]"
     },
     "metadata": {
      "needs_background": "light"
     },
     "output_type": "display_data"
    }
   ],
   "source": [
    "elip1.draw(t_points)"
   ]
  },
  {
   "cell_type": "markdown",
   "metadata": {},
   "source": [
    "העבירו חזרה את האליפסה במערכת החדשה לישנה, השוו בין התוצאות"
   ]
  },
  {
   "cell_type": "code",
   "execution_count": 95,
   "metadata": {
    "pycharm": {
     "is_executing": false
    }
   },
   "outputs": [
    {
     "data": {
      "text/plain": "<Figure size 432x288 with 1 Axes>",
      "image/png": "[encoded data removed]"
     },
     "metadata": {
      "needs_background": "light"
     },
     "output_type": "display_data"
    }
   ],
   "source": [
    "plt.plot(t_points[0,:],t_points[1,:],'b*', label='Points before T')\n",
    "angle = np.radians(90)\n",
    "scale = np.array([[0.5,0],[0,0.5]])\n",
    "shear = [[1,0],[np.tan(np.radians(30)), 1]]\n",
    "t_points2 = elip1.afine(t_points, 0, [-2, 3], np.array([[1,0],[0,1]]), np.array([[1,0],[0,1]])) # First we move to (0,0)\n",
    "t_points2 = elip1.invAfine(t_points2, angle, [0, 0], scale, shear) # Transformation\n",
    "t_points2 = elip1.afine(t_points2, 0, [2, -3], np.array([[1,0],[0,1]]), np.array([[1,0],[0,1]])) # We move to (2,-3)\n",
    "plt.plot(t_points2[0,:],t_points2[1,:],'*r', label='Points after T')\n",
    "plt.axis('equal')\n",
    "plt.legend(loc='upper right')\n",
    "plt.show()\n"
   ]
  },
  {
   "cell_type": "markdown",
   "metadata": {},
   "source": []
  },
  {
   "cell_type": "markdown",
   "metadata": {},
   "source": [
    "## חלק ב - התמרה פרספקטיבית"
   ]
  },
  {
   "cell_type": "markdown",
   "metadata": {},
   "source": [
    "הריצו את הפקודות הבאות"
   ]
  },
  {
   "cell_type": "code",
   "execution_count": 13,
   "metadata": {
    "pycharm": {
     "is_executing": false
    }
   },
   "outputs": [],
   "source": [
    "import numpy as np\n",
    "import matplotlib.pyplot as plt\n",
    "from scipy import linalg as la"
   ]
  },
  {
   "cell_type": "markdown",
   "metadata": {},
   "source": [
    "התמרה פרספקטיבית מוגדרת על-ידי אורך המוקד f, ומשוואתה:\n",
    "$$\n",
    "    z=f \\cdot \\frac{Z}{X}\n",
    "$$\n",
    "\n"
   ]
  },
  {
   "cell_type": "markdown",
   "metadata": {},
   "source": [
    "בנו פונקציה המבצעת התמרה פרספקטיבית\n",
    "פונקציה זו תקבל את פרמטר ההתמרה f ואוסף נקודות, ותחזיר אותן לאחר התמרה"
   ]
  },
  {
   "cell_type": "code",
   "execution_count": 13,
   "metadata": {
    "pycharm": {
     "is_executing": false
    }
   },
   "outputs": [],
   "source": []
  },
  {
   "cell_type": "markdown",
   "metadata": {},
   "source": [
    "### 1. נתון סט הנקודות הבא:\n",
    "\n"
   ]
  },
  {
   "cell_type": "code",
   "execution_count": 14,
   "metadata": {
    "pycharm": {
     "is_executing": false
    }
   },
   "outputs": [],
   "source": [
    "XZ=np.array([[6,6,7,7,9,9,25,25],\n",
    "             [0.0001,-0.0001,0.0001,-0.0001,0.0001,-0.0001,0.0001,-0.0001]])\n"
   ]
  },
  {
   "cell_type": "markdown",
   "metadata": {},
   "source": [
    "שרטטו את סט הנקודות כך שכל שתי נקודות מתארות עמוד נפרד"
   ]
  },
  {
   "cell_type": "code",
   "execution_count": 14,
   "metadata": {
    "pycharm": {
     "is_executing": false
    }
   },
   "outputs": [],
   "source": []
  },
  {
   "cell_type": "markdown",
   "metadata": {},
   "source": [
    "מה ניתן לומר על העמודים? האם כולם באותו האורך? "
   ]
  },
  {
   "cell_type": "code",
   "execution_count": 14,
   "metadata": {
    "pycharm": {
     "is_executing": false
    }
   },
   "outputs": [],
   "source": []
  },
  {
   "cell_type": "markdown",
   "metadata": {},
   "source": []
  },
  {
   "cell_type": "markdown",
   "metadata": {},
   "source": [
    "נתון קוד המשרטט מצלמה חד ממדית בעלת אורך מוקד של 5 פיקסלים וגודל חיישן של 0.00015 פיקסלים באופן סכמטי: \n"
   ]
  },
  {
   "cell_type": "code",
   "execution_count": 15,
   "metadata": {
    "pycharm": {
     "is_executing": false
    }
   },
   "outputs": [
    {
     "data": {
      "text/plain": "[<matplotlib.lines.Line2D at 0xb454dd0>]"
     },
     "metadata": {},
     "output_type": "execute_result",
     "execution_count": 15
    },
    {
     "data": {
      "text/plain": "<Figure size 1152x648 with 1 Axes>",
      "image/png": "[encoded data removed]"
     },
     "metadata": {
      "needs_background": "light"
     },
     "output_type": "display_data"
    }
   ],
   "source": [
    "f=5 # focal length\n",
    "s=0.00015 # sensor size\n",
    "plt.figure(figsize=(16,9)) #  figure size\n",
    "plt.plot([f,f],[-s,s],\"k-\")\n",
    "plt.plot([f,0],[0,0],\"k-\")\n"
   ]
  },
  {
   "cell_type": "markdown",
   "metadata": {},
   "source": [
    "השתמשו בקוד המשרטט את העמודים וציירו את המצלמה והעמודים"
   ]
  },
  {
   "cell_type": "code",
   "execution_count": 15,
   "metadata": {
    "pycharm": {
     "is_executing": false
    }
   },
   "outputs": [],
   "source": []
  },
  {
   "cell_type": "markdown",
   "metadata": {},
   "source": [
    "חברו קו בין המרכז הפרספקטיבי של המצלמה לבין כל נקודה של עמוד\n",
    "\n",
    "- המרכז הפרספקטיבי יושב בראשית\n",
    "- השתמשו ברשימת הצבעים הבאה בשרטוט הקווים \n",
    "\n",
    "`colors=['b-','b-','g-','g-','r-','r-','m-','m-']`\n"
   ]
  },
  {
   "cell_type": "code",
   "execution_count": 15,
   "metadata": {
    "pycharm": {
     "is_executing": false
    }
   },
   "outputs": [],
   "source": []
  },
  {
   "cell_type": "markdown",
   "metadata": {},
   "source": [
    "התמירו את נקודות העמודים באמצעות פונקציית ההתמרה הפרספקטיבית"
   ]
  },
  {
   "cell_type": "code",
   "execution_count": 15,
   "metadata": {
    "pycharm": {
     "is_executing": false
    }
   },
   "outputs": [],
   "source": []
  },
  {
   "cell_type": "markdown",
   "metadata": {},
   "source": [
    "הוסיפו לציור את הנקודות המותמרות (שרטטו כנקודות) "
   ]
  },
  {
   "cell_type": "code",
   "execution_count": 15,
   "metadata": {
    "pycharm": {
     "is_executing": false
    }
   },
   "outputs": [],
   "source": []
  },
  {
   "cell_type": "markdown",
   "metadata": {},
   "source": [
    "תארו את הציור. מה ניתן לומר שההתמרה הפרספקטיבית עושה? מה הקשר בין העמודים, לנקודות שהותמרו ולמרכז הפרספקטיבי?"
   ]
  },
  {
   "cell_type": "markdown",
   "metadata": {},
   "source": []
  },
  {
   "cell_type": "markdown",
   "metadata": {},
   "source": [
    "חשבו את המרחק בין כל שתי נקודות מותמרות השייכות לכל אחד מהעמודים"
   ]
  },
  {
   "cell_type": "code",
   "execution_count": 15,
   "metadata": {
    "pycharm": {
     "is_executing": false
    }
   },
   "outputs": [],
   "source": []
  },
  {
   "cell_type": "markdown",
   "metadata": {},
   "source": [
    "האם לדעתכם יש קשר בין מרחק העמוד מהמצלמה לבין המרחק המותמר? אם כן, מהו?"
   ]
  },
  {
   "cell_type": "markdown",
   "metadata": {},
   "source": []
  },
  {
   "cell_type": "markdown",
   "metadata": {},
   "source": [
    "### 2. נתונים שני קווים"
   ]
  },
  {
   "cell_type": "code",
   "execution_count": 16,
   "metadata": {
    "pycharm": {
     "is_executing": false
    }
   },
   "outputs": [],
   "source": [
    "l1=np.array([[60,70,100,120,200,220,250,280],\n",
    "             [0.000002,0.000002,0.000002,0.000002,0.000002,0.000002,0.000002,0.000002]])\n",
    "l2=np.array([[60,70,100,120,200,220,250,280],\n",
    "             [-0.000002,-0.000002,-0.000002,-0.000002,-0.000002,-0.000002,-0.000002,-0.000002]])"
   ]
  },
  {
   "cell_type": "markdown",
   "metadata": {},
   "source": [
    "שרטטו את הנקודות של כל קו וחברו ביניהן בקו כחול\n",
    "\n"
   ]
  },
  {
   "cell_type": "code",
   "execution_count": 16,
   "metadata": {
    "pycharm": {
     "is_executing": false
    }
   },
   "outputs": [],
   "source": []
  },
  {
   "cell_type": "markdown",
   "metadata": {},
   "source": [
    "מהו היחס הגיאומטרי בין הקווים?"
   ]
  },
  {
   "cell_type": "markdown",
   "metadata": {},
   "source": []
  },
  {
   "cell_type": "markdown",
   "metadata": {},
   "source": [
    "קווים אלו צולמו באמצעות מצלמה חד-ממדית בעלת אורך מוקד של 10 פיקסלים גודל חיישן 0.00001. מהן הקואורדינטות של הנקודות לאחר ההתמרה?"
   ]
  },
  {
   "cell_type": "code",
   "execution_count": 16,
   "metadata": {
    "pycharm": {
     "is_executing": false
    }
   },
   "outputs": [],
   "source": []
  },
  {
   "cell_type": "markdown",
   "metadata": {},
   "source": [
    "ציירו את הקרניים המקשרות בין הנקודות לבין המצלמה\n",
    "\n",
    "\n",
    "_ניתן להשתמש בקוד ציור המצלמה מהסעיפים הקודמים_"
   ]
  },
  {
   "cell_type": "code",
   "execution_count": 16,
   "metadata": {
    "pycharm": {
     "is_executing": false
    }
   },
   "outputs": [],
   "source": []
  },
  {
   "cell_type": "markdown",
   "metadata": {},
   "source": [
    "האם יש קשר בין הנקודות על כל אחד מהקווים לבין ההטלה שלהם על מישור התצלום? "
   ]
  },
  {
   "cell_type": "markdown",
   "metadata": {},
   "source": []
  },
  {
   "cell_type": "markdown",
   "metadata": {},
   "source": [
    "התמירו עוד שתי נקודות, הנמצאות על כל אחד מהקווים במרחקים של $x=3800$ ו-$x=4000$ "
   ]
  },
  {
   "cell_type": "code",
   "execution_count": 16,
   "metadata": {
    "pycharm": {
     "is_executing": false
    }
   },
   "outputs": [],
   "source": []
  },
  {
   "cell_type": "markdown",
   "metadata": {},
   "source": [
    "מה ניתן לומר שהתמרה פרספקטיבית עושה לקווים מקבילים?"
   ]
  },
  {
   "cell_type": "markdown",
   "metadata": {},
   "source": []
  },
  {
   "cell_type": "markdown",
   "metadata": {},
   "source": [
    "מה הוא המקום הגיאומטרי של הקווים לאחר ההתמרה?"
   ]
  },
  {
   "cell_type": "markdown",
   "metadata": {},
   "source": []
  }
 ],
 "metadata": {
  "kernelspec": {
   "display_name": "Python 3",
   "language": "python",
   "name": "python3"
  },
  "language_info": {
   "codemirror_mode": {
    "name": "ipython",
    "version": 3
   },
   "file_extension": ".py",
   "mimetype": "text/x-python",
   "name": "python",
   "nbconvert_exporter": "python",
   "pygments_lexer": "ipython3",
   "version": "3.7.4"
  },
  "pycharm": {
   "stem_cell": {
    "cell_type": "raw",
    "source": [],
    "metadata": {
     "collapsed": false
    }
   }
  }
 },
 "nbformat": 4,
 "nbformat_minor": 2
}